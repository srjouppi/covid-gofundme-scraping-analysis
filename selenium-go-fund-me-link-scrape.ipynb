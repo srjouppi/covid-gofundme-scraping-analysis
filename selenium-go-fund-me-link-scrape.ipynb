{
 "cells": [
  {
   "cell_type": "code",
   "execution_count": 2,
   "id": "834cc6e5",
   "metadata": {},
   "outputs": [],
   "source": [
    "from bs4 import BeautifulSoup\n",
    "import requests\n",
    "import re\n",
    "from tqdm import tqdm\n",
    "import random"
   ]
  },
  {
   "cell_type": "code",
   "execution_count": 3,
   "id": "15c69bca",
   "metadata": {},
   "outputs": [
    {
     "name": "stderr",
     "output_type": "stream",
     "text": [
      "/Users/shelbyjouppi/.pyenv/versions/3.9.7/lib/python3.9/site-packages/pandas/compat/__init__.py:124: UserWarning: Could not import the lzma module. Your installed Python is incomplete. Attempting to use lzma compression will result in a RuntimeError.\n",
      "  warnings.warn(msg)\n"
     ]
    }
   ],
   "source": [
    "import pandas as pd\n",
    "\n",
    "import time\n",
    "\n",
    "from selenium import webdriver\n",
    "from selenium.webdriver.common.by import By\n",
    "from selenium.webdriver.support.ui import WebDriverWait\n",
    "from selenium.webdriver.support import expected_conditions as EC\n",
    "from selenium.webdriver.support.ui import Select\n",
    "\n",
    "from webdriver_manager.chrome import ChromeDriverManager"
   ]
  },
  {
   "cell_type": "code",
   "execution_count": 4,
   "id": "ac8c8972",
   "metadata": {
    "scrolled": true
   },
   "outputs": [
    {
     "name": "stderr",
     "output_type": "stream",
     "text": [
      "\n",
      "\n",
      "====== WebDriver manager ======\n",
      "Current google-chrome version is 98.0.4758\n",
      "Get LATEST chromedriver version for 98.0.4758 google-chrome\n",
      "Trying to download new driver from https://chromedriver.storage.googleapis.com/98.0.4758.80/chromedriver_mac64.zip\n",
      "Driver has been saved in cache [/Users/shelbyjouppi/.wdm/drivers/chromedriver/mac64/98.0.4758.80]\n",
      "/var/folders/_4/_njb58q944xdbv6xcbzbzmqh0000gn/T/ipykernel_51737/2160715986.py:4: DeprecationWarning: executable_path has been deprecated, please pass in a Service object\n",
      "  driver = webdriver.Chrome(ChromeDriverManager().install())\n"
     ]
    }
   ],
   "source": [
    "from selenium import webdriver\n",
    "from webdriver_manager.chrome import ChromeDriverManager\n",
    "\n",
    "driver = webdriver.Chrome(ChromeDriverManager().install())"
   ]
  },
  {
   "cell_type": "code",
   "execution_count": 15,
   "id": "41a6f386",
   "metadata": {
    "scrolled": true
   },
   "outputs": [
    {
     "data": {
      "text/plain": [
       "['https://www.gofundme.com/s?q=%22recover+from+covid%22&pg=1',\n",
       " 'https://www.gofundme.com/s?q=%22recover+from+covid%22&pg=2',\n",
       " 'https://www.gofundme.com/s?q=%22recover+from+covid%22&pg=3',\n",
       " 'https://www.gofundme.com/s?q=%22recover+from+covid%22&pg=4',\n",
       " 'https://www.gofundme.com/s?q=%22recover+from+covid%22&pg=5',\n",
       " 'https://www.gofundme.com/s?q=%22recover+from+covid%22&pg=6',\n",
       " 'https://www.gofundme.com/s?q=%22recover+from+covid%22&pg=7',\n",
       " 'https://www.gofundme.com/s?q=%22recover+from+covid%22&pg=8',\n",
       " 'https://www.gofundme.com/s?q=%22recover+from+covid%22&pg=9',\n",
       " 'https://www.gofundme.com/s?q=%22recover+from+covid%22&pg=10',\n",
       " 'https://www.gofundme.com/s?q=%22recover+from+covid%22&pg=11',\n",
       " 'https://www.gofundme.com/s?q=%22recover+from+covid%22&pg=12',\n",
       " 'https://www.gofundme.com/s?q=%22recover+from+covid%22&pg=13',\n",
       " 'https://www.gofundme.com/s?q=%22recover+from+covid%22&pg=14',\n",
       " 'https://www.gofundme.com/s?q=%22recover+from+covid%22&pg=15',\n",
       " 'https://www.gofundme.com/s?q=%22recover+from+covid%22&pg=16',\n",
       " 'https://www.gofundme.com/s?q=%22recover+from+covid%22&pg=17',\n",
       " 'https://www.gofundme.com/s?q=%22recover+from+covid%22&pg=18',\n",
       " 'https://www.gofundme.com/s?q=%22recover+from+covid%22&pg=19',\n",
       " 'https://www.gofundme.com/s?q=%22recover+from+covid%22&pg=20',\n",
       " 'https://www.gofundme.com/s?q=%22recover+from+covid%22&pg=21',\n",
       " 'https://www.gofundme.com/s?q=%22recover+from+covid%22&pg=22',\n",
       " 'https://www.gofundme.com/s?q=%22recover+from+covid%22&pg=23',\n",
       " 'https://www.gofundme.com/s?q=%22recover+from+covid%22&pg=24',\n",
       " 'https://www.gofundme.com/s?q=%22recover+from+covid%22&pg=25',\n",
       " 'https://www.gofundme.com/s?q=%22recover+from+covid%22&pg=26',\n",
       " 'https://www.gofundme.com/s?q=%22recover+from+covid%22&pg=27',\n",
       " 'https://www.gofundme.com/s?q=%22recover+from+covid%22&pg=28',\n",
       " 'https://www.gofundme.com/s?q=%22recover+from+covid%22&pg=29',\n",
       " 'https://www.gofundme.com/s?q=%22recover+from+covid%22&pg=30',\n",
       " 'https://www.gofundme.com/s?q=%22recover+from+covid%22&pg=31',\n",
       " 'https://www.gofundme.com/s?q=%22recover+from+covid%22&pg=32',\n",
       " 'https://www.gofundme.com/s?q=%22recover+from+covid%22&pg=33',\n",
       " 'https://www.gofundme.com/s?q=%22recover+from+covid%22&pg=34',\n",
       " 'https://www.gofundme.com/s?q=%22recover+from+covid%22&pg=35',\n",
       " 'https://www.gofundme.com/s?q=%22recover+from+covid%22&pg=36',\n",
       " 'https://www.gofundme.com/s?q=%22recover+from+covid%22&pg=37',\n",
       " 'https://www.gofundme.com/s?q=%22recover+from+covid%22&pg=38',\n",
       " 'https://www.gofundme.com/s?q=%22recover+from+covid%22&pg=39',\n",
       " 'https://www.gofundme.com/s?q=%22recover+from+covid%22&pg=40',\n",
       " 'https://www.gofundme.com/s?q=%22recover+from+covid%22&pg=41',\n",
       " 'https://www.gofundme.com/s?q=%22recover+from+covid%22&pg=42',\n",
       " 'https://www.gofundme.com/s?q=%22recover+from+covid%22&pg=43',\n",
       " 'https://www.gofundme.com/s?q=%22recover+from+covid%22&pg=44',\n",
       " 'https://www.gofundme.com/s?q=%22recover+from+covid%22&pg=45',\n",
       " 'https://www.gofundme.com/s?q=%22recover+from+covid%22&pg=46',\n",
       " 'https://www.gofundme.com/s?q=%22recover+from+covid%22&pg=47',\n",
       " 'https://www.gofundme.com/s?q=%22recover+from+covid%22&pg=48',\n",
       " 'https://www.gofundme.com/s?q=%22recover+from+covid%22&pg=49',\n",
       " 'https://www.gofundme.com/s?q=%22recover+from+covid%22&pg=50',\n",
       " 'https://www.gofundme.com/s?q=%22recover+from+covid%22&pg=51',\n",
       " 'https://www.gofundme.com/s?q=%22recover+from+covid%22&pg=52',\n",
       " 'https://www.gofundme.com/s?q=%22recover+from+covid%22&pg=53',\n",
       " 'https://www.gofundme.com/s?q=%22recover+from+covid%22&pg=54',\n",
       " 'https://www.gofundme.com/s?q=%22recover+from+covid%22&pg=55',\n",
       " 'https://www.gofundme.com/s?q=%22recover+from+covid%22&pg=56']"
      ]
     },
     "execution_count": 15,
     "metadata": {},
     "output_type": "execute_result"
    }
   ],
   "source": [
    "# Create a list of links to loop through\n",
    "# Searching for \"recover from covid\"\n",
    "links = []\n",
    "for x in range (1,57):\n",
    "    link = f\"https://www.gofundme.com/s?q=%22recover+from+covid%22&pg={x}\"\n",
    "    links.append(link)"
   ]
  },
  {
   "cell_type": "code",
   "execution_count": 49,
   "id": "52158329",
   "metadata": {},
   "outputs": [
    {
     "data": {
      "text/plain": [
       "['https://www.gofundme.com/s?q=%22covid+loss%22&pg=1',\n",
       " 'https://www.gofundme.com/s?q=%22covid+loss%22&pg=2',\n",
       " 'https://www.gofundme.com/s?q=%22covid+loss%22&pg=3',\n",
       " 'https://www.gofundme.com/s?q=%22covid+loss%22&pg=4',\n",
       " 'https://www.gofundme.com/s?q=%22covid+loss%22&pg=5']"
      ]
     },
     "execution_count": 49,
     "metadata": {},
     "output_type": "execute_result"
    }
   ],
   "source": [
    "# Create a list of links to loop through\n",
    "# Searching for \"covid loss\"\n",
    "links = []\n",
    "for x in range (1,6):\n",
    "    link = f\"https://www.gofundme.com/s?q=%22covid+loss%22&pg={x}\"\n",
    "    links.append(link)\n",
    "links"
   ]
  },
  {
   "cell_type": "code",
   "execution_count": 42,
   "id": "6b716b52",
   "metadata": {
    "scrolled": true
   },
   "outputs": [
    {
     "data": {
      "text/plain": [
       "['https://www.gofundme.com/s?q=%22covid+medical+bills%22&pg=1',\n",
       " 'https://www.gofundme.com/s?q=%22covid+medical+bills%22&pg=2',\n",
       " 'https://www.gofundme.com/s?q=%22covid+medical+bills%22&pg=3',\n",
       " 'https://www.gofundme.com/s?q=%22covid+medical+bills%22&pg=4',\n",
       " 'https://www.gofundme.com/s?q=%22covid+medical+bills%22&pg=5',\n",
       " 'https://www.gofundme.com/s?q=%22covid+medical+bills%22&pg=6',\n",
       " 'https://www.gofundme.com/s?q=%22covid+medical+bills%22&pg=7',\n",
       " 'https://www.gofundme.com/s?q=%22covid+medical+bills%22&pg=8',\n",
       " 'https://www.gofundme.com/s?q=%22covid+medical+bills%22&pg=9']"
      ]
     },
     "execution_count": 42,
     "metadata": {},
     "output_type": "execute_result"
    }
   ],
   "source": [
    "# Create a list of links to loop through\n",
    "# Searching for \"covid medical bills\"\n",
    "links = []\n",
    "for x in range (1,10):\n",
    "    link = f\"https://www.gofundme.com/s?q=%22covid+medical+bills%22&pg={x}\"\n",
    "    links.append(link)\n",
    "links"
   ]
  },
  {
   "cell_type": "code",
   "execution_count": 47,
   "id": "e49c1ff8",
   "metadata": {
    "scrolled": true
   },
   "outputs": [
    {
     "data": {
      "text/plain": [
       "['https://www.gofundme.com/s?q=%22covid+recovery%22&pg=1',\n",
       " 'https://www.gofundme.com/s?q=%22covid+recovery%22&pg=2',\n",
       " 'https://www.gofundme.com/s?q=%22covid+recovery%22&pg=3',\n",
       " 'https://www.gofundme.com/s?q=%22covid+recovery%22&pg=4',\n",
       " 'https://www.gofundme.com/s?q=%22covid+recovery%22&pg=5',\n",
       " 'https://www.gofundme.com/s?q=%22covid+recovery%22&pg=6',\n",
       " 'https://www.gofundme.com/s?q=%22covid+recovery%22&pg=7',\n",
       " 'https://www.gofundme.com/s?q=%22covid+recovery%22&pg=8',\n",
       " 'https://www.gofundme.com/s?q=%22covid+recovery%22&pg=9',\n",
       " 'https://www.gofundme.com/s?q=%22covid+recovery%22&pg=10',\n",
       " 'https://www.gofundme.com/s?q=%22covid+recovery%22&pg=11',\n",
       " 'https://www.gofundme.com/s?q=%22covid+recovery%22&pg=12',\n",
       " 'https://www.gofundme.com/s?q=%22covid+recovery%22&pg=13',\n",
       " 'https://www.gofundme.com/s?q=%22covid+recovery%22&pg=14',\n",
       " 'https://www.gofundme.com/s?q=%22covid+recovery%22&pg=15',\n",
       " 'https://www.gofundme.com/s?q=%22covid+recovery%22&pg=16',\n",
       " 'https://www.gofundme.com/s?q=%22covid+recovery%22&pg=17',\n",
       " 'https://www.gofundme.com/s?q=%22covid+recovery%22&pg=18',\n",
       " 'https://www.gofundme.com/s?q=%22covid+recovery%22&pg=19',\n",
       " 'https://www.gofundme.com/s?q=%22covid+recovery%22&pg=20',\n",
       " 'https://www.gofundme.com/s?q=%22covid+recovery%22&pg=21',\n",
       " 'https://www.gofundme.com/s?q=%22covid+recovery%22&pg=22',\n",
       " 'https://www.gofundme.com/s?q=%22covid+recovery%22&pg=23',\n",
       " 'https://www.gofundme.com/s?q=%22covid+recovery%22&pg=24',\n",
       " 'https://www.gofundme.com/s?q=%22covid+recovery%22&pg=25',\n",
       " 'https://www.gofundme.com/s?q=%22covid+recovery%22&pg=26',\n",
       " 'https://www.gofundme.com/s?q=%22covid+recovery%22&pg=27',\n",
       " 'https://www.gofundme.com/s?q=%22covid+recovery%22&pg=28',\n",
       " 'https://www.gofundme.com/s?q=%22covid+recovery%22&pg=29',\n",
       " 'https://www.gofundme.com/s?q=%22covid+recovery%22&pg=30',\n",
       " 'https://www.gofundme.com/s?q=%22covid+recovery%22&pg=31',\n",
       " 'https://www.gofundme.com/s?q=%22covid+recovery%22&pg=32',\n",
       " 'https://www.gofundme.com/s?q=%22covid+recovery%22&pg=33',\n",
       " 'https://www.gofundme.com/s?q=%22covid+recovery%22&pg=34',\n",
       " 'https://www.gofundme.com/s?q=%22covid+recovery%22&pg=35',\n",
       " 'https://www.gofundme.com/s?q=%22covid+recovery%22&pg=36',\n",
       " 'https://www.gofundme.com/s?q=%22covid+recovery%22&pg=37',\n",
       " 'https://www.gofundme.com/s?q=%22covid+recovery%22&pg=38']"
      ]
     },
     "execution_count": 47,
     "metadata": {},
     "output_type": "execute_result"
    }
   ],
   "source": [
    "# Create a list of links to loop through\n",
    "# Searching for \"covid recovery\"\n",
    "links = []\n",
    "for x in range (1,39):\n",
    "    link = f\"https://www.gofundme.com/s?q=%22covid+recovery%22&pg={x}\"\n",
    "    links.append(link)\n",
    "links"
   ]
  },
  {
   "cell_type": "code",
   "execution_count": 51,
   "id": "ea38f279",
   "metadata": {},
   "outputs": [
    {
     "data": {
      "text/plain": [
       "['https://www.gofundme.com/s?q=%22covid+medical+expenses%22&pg=1',\n",
       " 'https://www.gofundme.com/s?q=%22covid+medical+expenses%22&pg=2',\n",
       " 'https://www.gofundme.com/s?q=%22covid+medical+expenses%22&pg=3',\n",
       " 'https://www.gofundme.com/s?q=%22covid+medical+expenses%22&pg=4',\n",
       " 'https://www.gofundme.com/s?q=%22covid+medical+expenses%22&pg=5',\n",
       " 'https://www.gofundme.com/s?q=%22covid+medical+expenses%22&pg=6',\n",
       " 'https://www.gofundme.com/s?q=%22covid+medical+expenses%22&pg=7']"
      ]
     },
     "execution_count": 51,
     "metadata": {},
     "output_type": "execute_result"
    }
   ],
   "source": [
    "# Create a list of links to loop through\n",
    "# Searching for \"covid medical expenses\"\n",
    "links = []\n",
    "for x in range (1,8):\n",
    "    link = f\"https://www.gofundme.com/s?q=%22covid+medical+expenses%22&pg={x}\"\n",
    "    links.append(link)\n",
    "links"
   ]
  },
  {
   "cell_type": "code",
   "execution_count": 56,
   "id": "b6cf8614",
   "metadata": {},
   "outputs": [
    {
     "data": {
      "text/plain": [
       "['https://www.gofundme.com/s?q=%22covid+death%22&pg=1',\n",
       " 'https://www.gofundme.com/s?q=%22covid+death%22&pg=2',\n",
       " 'https://www.gofundme.com/s?q=%22covid+death%22&pg=3',\n",
       " 'https://www.gofundme.com/s?q=%22covid+death%22&pg=4',\n",
       " 'https://www.gofundme.com/s?q=%22covid+death%22&pg=5']"
      ]
     },
     "execution_count": 56,
     "metadata": {},
     "output_type": "execute_result"
    }
   ],
   "source": [
    "# Create a list of links to loop through\n",
    "# Searching for \"covid death\"\n",
    "links = []\n",
    "for x in range (1,6):\n",
    "    link = f\"https://www.gofundme.com/s?q=%22covid+death%22&pg={x}\"\n",
    "    links.append(link)\n",
    "links"
   ]
  },
  {
   "cell_type": "code",
   "execution_count": 58,
   "id": "5bc256bf",
   "metadata": {},
   "outputs": [
    {
     "data": {
      "text/plain": [
       "['https://www.gofundme.com/s?q=%22covid+bills%22&pg=1',\n",
       " 'https://www.gofundme.com/s?q=%22covid+bills%22&pg=2',\n",
       " 'https://www.gofundme.com/s?q=%22covid+bills%22&pg=3',\n",
       " 'https://www.gofundme.com/s?q=%22covid+bills%22&pg=4',\n",
       " 'https://www.gofundme.com/s?q=%22covid+bills%22&pg=5',\n",
       " 'https://www.gofundme.com/s?q=%22covid+bills%22&pg=6',\n",
       " 'https://www.gofundme.com/s?q=%22covid+bills%22&pg=7']"
      ]
     },
     "execution_count": 58,
     "metadata": {},
     "output_type": "execute_result"
    }
   ],
   "source": [
    "# Create a list of links to loop through\n",
    "# Searching for \"covid bills\"\n",
    "links = []\n",
    "for x in range (1,8):\n",
    "    link = f\"https://www.gofundme.com/s?q=%22covid+bills%22&pg={x}\"\n",
    "    links.append(link)\n",
    "links"
   ]
  },
  {
   "cell_type": "code",
   "execution_count": 60,
   "id": "330b8c29",
   "metadata": {
    "scrolled": true
   },
   "outputs": [
    {
     "data": {
      "text/plain": [
       "['https://www.gofundme.com/s?q=%22covid+survivor%22&pg=1',\n",
       " 'https://www.gofundme.com/s?q=%22covid+survivor%22&pg=2',\n",
       " 'https://www.gofundme.com/s?q=%22covid+survivor%22&pg=3',\n",
       " 'https://www.gofundme.com/s?q=%22covid+survivor%22&pg=4',\n",
       " 'https://www.gofundme.com/s?q=%22covid+survivor%22&pg=5',\n",
       " 'https://www.gofundme.com/s?q=%22covid+survivor%22&pg=6',\n",
       " 'https://www.gofundme.com/s?q=%22covid+survivor%22&pg=7',\n",
       " 'https://www.gofundme.com/s?q=%22covid+survivor%22&pg=8',\n",
       " 'https://www.gofundme.com/s?q=%22covid+survivor%22&pg=9',\n",
       " 'https://www.gofundme.com/s?q=%22covid+survivor%22&pg=10']"
      ]
     },
     "execution_count": 60,
     "metadata": {},
     "output_type": "execute_result"
    }
   ],
   "source": [
    "# Create a list of links to loop through\n",
    "# Searching for \"covid survivor\"\n",
    "links = []\n",
    "for x in range (1,11):\n",
    "    link = f\"https://www.gofundme.com/s?q=%22covid+survivor%22&pg={x}\"\n",
    "    links.append(link)\n",
    "links"
   ]
  },
  {
   "cell_type": "code",
   "execution_count": 62,
   "id": "d526c7b0",
   "metadata": {
    "scrolled": true
   },
   "outputs": [
    {
     "data": {
      "text/plain": [
       "['https://www.gofundme.com/s?q=%22covid+battle%22&pg=1',\n",
       " 'https://www.gofundme.com/s?q=%22covid+battle%22&pg=2',\n",
       " 'https://www.gofundme.com/s?q=%22covid+battle%22&pg=3',\n",
       " 'https://www.gofundme.com/s?q=%22covid+battle%22&pg=4',\n",
       " 'https://www.gofundme.com/s?q=%22covid+battle%22&pg=5',\n",
       " 'https://www.gofundme.com/s?q=%22covid+battle%22&pg=6',\n",
       " 'https://www.gofundme.com/s?q=%22covid+battle%22&pg=7',\n",
       " 'https://www.gofundme.com/s?q=%22covid+battle%22&pg=8',\n",
       " 'https://www.gofundme.com/s?q=%22covid+battle%22&pg=9',\n",
       " 'https://www.gofundme.com/s?q=%22covid+battle%22&pg=10',\n",
       " 'https://www.gofundme.com/s?q=%22covid+battle%22&pg=11',\n",
       " 'https://www.gofundme.com/s?q=%22covid+battle%22&pg=12',\n",
       " 'https://www.gofundme.com/s?q=%22covid+battle%22&pg=13',\n",
       " 'https://www.gofundme.com/s?q=%22covid+battle%22&pg=14']"
      ]
     },
     "execution_count": 62,
     "metadata": {},
     "output_type": "execute_result"
    }
   ],
   "source": [
    "# Create a list of links to loop through\n",
    "# Searching for \"covid battle\"\n",
    "links = []\n",
    "for x in range (1,15):\n",
    "    link = f\"https://www.gofundme.com/s?q=%22covid+battle%22&pg={x}\"\n",
    "    links.append(link)\n",
    "links"
   ]
  },
  {
   "cell_type": "code",
   "execution_count": null,
   "id": "6a014331",
   "metadata": {},
   "outputs": [],
   "source": []
  },
  {
   "cell_type": "code",
   "execution_count": 1,
   "id": "d7823958",
   "metadata": {
    "scrolled": false
   },
   "outputs": [
    {
     "data": {
      "text/plain": [
       "['https://www.gofundme.com/s?q=covid+relief+in+the+hospital&pg=1',\n",
       " 'https://www.gofundme.com/s?q=covid+relief+in+the+hospital&pg=2',\n",
       " 'https://www.gofundme.com/s?q=covid+relief+in+the+hospital&pg=3',\n",
       " 'https://www.gofundme.com/s?q=covid+relief+in+the+hospital&pg=4',\n",
       " 'https://www.gofundme.com/s?q=covid+relief+in+the+hospital&pg=5',\n",
       " 'https://www.gofundme.com/s?q=covid+relief+in+the+hospital&pg=6',\n",
       " 'https://www.gofundme.com/s?q=covid+relief+in+the+hospital&pg=7',\n",
       " 'https://www.gofundme.com/s?q=covid+relief+in+the+hospital&pg=8',\n",
       " 'https://www.gofundme.com/s?q=covid+relief+in+the+hospital&pg=9',\n",
       " 'https://www.gofundme.com/s?q=covid+relief+in+the+hospital&pg=10',\n",
       " 'https://www.gofundme.com/s?q=covid+relief+in+the+hospital&pg=11',\n",
       " 'https://www.gofundme.com/s?q=covid+relief+in+the+hospital&pg=12',\n",
       " 'https://www.gofundme.com/s?q=covid+relief+in+the+hospital&pg=13',\n",
       " 'https://www.gofundme.com/s?q=covid+relief+in+the+hospital&pg=14',\n",
       " 'https://www.gofundme.com/s?q=covid+relief+in+the+hospital&pg=15',\n",
       " 'https://www.gofundme.com/s?q=covid+relief+in+the+hospital&pg=16',\n",
       " 'https://www.gofundme.com/s?q=covid+relief+in+the+hospital&pg=17',\n",
       " 'https://www.gofundme.com/s?q=covid+relief+in+the+hospital&pg=18',\n",
       " 'https://www.gofundme.com/s?q=covid+relief+in+the+hospital&pg=19',\n",
       " 'https://www.gofundme.com/s?q=covid+relief+in+the+hospital&pg=20',\n",
       " 'https://www.gofundme.com/s?q=covid+relief+in+the+hospital&pg=21',\n",
       " 'https://www.gofundme.com/s?q=covid+relief+in+the+hospital&pg=22',\n",
       " 'https://www.gofundme.com/s?q=covid+relief+in+the+hospital&pg=23',\n",
       " 'https://www.gofundme.com/s?q=covid+relief+in+the+hospital&pg=24',\n",
       " 'https://www.gofundme.com/s?q=covid+relief+in+the+hospital&pg=25',\n",
       " 'https://www.gofundme.com/s?q=covid+relief+in+the+hospital&pg=26',\n",
       " 'https://www.gofundme.com/s?q=covid+relief+in+the+hospital&pg=27',\n",
       " 'https://www.gofundme.com/s?q=covid+relief+in+the+hospital&pg=28',\n",
       " 'https://www.gofundme.com/s?q=covid+relief+in+the+hospital&pg=29',\n",
       " 'https://www.gofundme.com/s?q=covid+relief+in+the+hospital&pg=30',\n",
       " 'https://www.gofundme.com/s?q=covid+relief+in+the+hospital&pg=31',\n",
       " 'https://www.gofundme.com/s?q=covid+relief+in+the+hospital&pg=32',\n",
       " 'https://www.gofundme.com/s?q=covid+relief+in+the+hospital&pg=33',\n",
       " 'https://www.gofundme.com/s?q=covid+relief+in+the+hospital&pg=34',\n",
       " 'https://www.gofundme.com/s?q=covid+relief+in+the+hospital&pg=35',\n",
       " 'https://www.gofundme.com/s?q=covid+relief+in+the+hospital&pg=36',\n",
       " 'https://www.gofundme.com/s?q=covid+relief+in+the+hospital&pg=37',\n",
       " 'https://www.gofundme.com/s?q=covid+relief+in+the+hospital&pg=38',\n",
       " 'https://www.gofundme.com/s?q=covid+relief+in+the+hospital&pg=39',\n",
       " 'https://www.gofundme.com/s?q=covid+relief+in+the+hospital&pg=40',\n",
       " 'https://www.gofundme.com/s?q=covid+relief+in+the+hospital&pg=41',\n",
       " 'https://www.gofundme.com/s?q=covid+relief+in+the+hospital&pg=42',\n",
       " 'https://www.gofundme.com/s?q=covid+relief+in+the+hospital&pg=43',\n",
       " 'https://www.gofundme.com/s?q=covid+relief+in+the+hospital&pg=44',\n",
       " 'https://www.gofundme.com/s?q=covid+relief+in+the+hospital&pg=45',\n",
       " 'https://www.gofundme.com/s?q=covid+relief+in+the+hospital&pg=46',\n",
       " 'https://www.gofundme.com/s?q=covid+relief+in+the+hospital&pg=47',\n",
       " 'https://www.gofundme.com/s?q=covid+relief+in+the+hospital&pg=48',\n",
       " 'https://www.gofundme.com/s?q=covid+relief+in+the+hospital&pg=49',\n",
       " 'https://www.gofundme.com/s?q=covid+relief+in+the+hospital&pg=50',\n",
       " 'https://www.gofundme.com/s?q=covid+relief+in+the+hospital&pg=51',\n",
       " 'https://www.gofundme.com/s?q=covid+relief+in+the+hospital&pg=52',\n",
       " 'https://www.gofundme.com/s?q=covid+relief+in+the+hospital&pg=53',\n",
       " 'https://www.gofundme.com/s?q=covid+relief+in+the+hospital&pg=54',\n",
       " 'https://www.gofundme.com/s?q=covid+relief+in+the+hospital&pg=55',\n",
       " 'https://www.gofundme.com/s?q=covid+relief+in+the+hospital&pg=56']"
      ]
     },
     "execution_count": 1,
     "metadata": {},
     "output_type": "execute_result"
    }
   ],
   "source": [
    "# Create a list of links to loop through\n",
    "# Searching for \"covid relief in the hospital\"\n",
    "links = []\n",
    "for x in range (1,57):\n",
    "    link = f\"https://www.gofundme.com/s?q=covid+relief+in+the+hospital&pg={x}\"\n",
    "    links.append(link)\n",
    "links"
   ]
  },
  {
   "cell_type": "code",
   "execution_count": 6,
   "id": "c499c080",
   "metadata": {
    "scrolled": false
   },
   "outputs": [
    {
     "data": {
      "text/plain": [
       "['https://www.gofundme.com/s?q=covid+medical+bills+in+the+hospital&pg=1',\n",
       " 'https://www.gofundme.com/s?q=covid+medical+bills+in+the+hospital&pg=2',\n",
       " 'https://www.gofundme.com/s?q=covid+medical+bills+in+the+hospital&pg=3',\n",
       " 'https://www.gofundme.com/s?q=covid+medical+bills+in+the+hospital&pg=4',\n",
       " 'https://www.gofundme.com/s?q=covid+medical+bills+in+the+hospital&pg=5',\n",
       " 'https://www.gofundme.com/s?q=covid+medical+bills+in+the+hospital&pg=6',\n",
       " 'https://www.gofundme.com/s?q=covid+medical+bills+in+the+hospital&pg=7',\n",
       " 'https://www.gofundme.com/s?q=covid+medical+bills+in+the+hospital&pg=8',\n",
       " 'https://www.gofundme.com/s?q=covid+medical+bills+in+the+hospital&pg=9',\n",
       " 'https://www.gofundme.com/s?q=covid+medical+bills+in+the+hospital&pg=10',\n",
       " 'https://www.gofundme.com/s?q=covid+medical+bills+in+the+hospital&pg=11',\n",
       " 'https://www.gofundme.com/s?q=covid+medical+bills+in+the+hospital&pg=12',\n",
       " 'https://www.gofundme.com/s?q=covid+medical+bills+in+the+hospital&pg=13',\n",
       " 'https://www.gofundme.com/s?q=covid+medical+bills+in+the+hospital&pg=14',\n",
       " 'https://www.gofundme.com/s?q=covid+medical+bills+in+the+hospital&pg=15',\n",
       " 'https://www.gofundme.com/s?q=covid+medical+bills+in+the+hospital&pg=16',\n",
       " 'https://www.gofundme.com/s?q=covid+medical+bills+in+the+hospital&pg=17',\n",
       " 'https://www.gofundme.com/s?q=covid+medical+bills+in+the+hospital&pg=18',\n",
       " 'https://www.gofundme.com/s?q=covid+medical+bills+in+the+hospital&pg=19',\n",
       " 'https://www.gofundme.com/s?q=covid+medical+bills+in+the+hospital&pg=20',\n",
       " 'https://www.gofundme.com/s?q=covid+medical+bills+in+the+hospital&pg=21',\n",
       " 'https://www.gofundme.com/s?q=covid+medical+bills+in+the+hospital&pg=22',\n",
       " 'https://www.gofundme.com/s?q=covid+medical+bills+in+the+hospital&pg=23',\n",
       " 'https://www.gofundme.com/s?q=covid+medical+bills+in+the+hospital&pg=24',\n",
       " 'https://www.gofundme.com/s?q=covid+medical+bills+in+the+hospital&pg=25',\n",
       " 'https://www.gofundme.com/s?q=covid+medical+bills+in+the+hospital&pg=26',\n",
       " 'https://www.gofundme.com/s?q=covid+medical+bills+in+the+hospital&pg=27',\n",
       " 'https://www.gofundme.com/s?q=covid+medical+bills+in+the+hospital&pg=28',\n",
       " 'https://www.gofundme.com/s?q=covid+medical+bills+in+the+hospital&pg=29',\n",
       " 'https://www.gofundme.com/s?q=covid+medical+bills+in+the+hospital&pg=30',\n",
       " 'https://www.gofundme.com/s?q=covid+medical+bills+in+the+hospital&pg=31',\n",
       " 'https://www.gofundme.com/s?q=covid+medical+bills+in+the+hospital&pg=32',\n",
       " 'https://www.gofundme.com/s?q=covid+medical+bills+in+the+hospital&pg=33',\n",
       " 'https://www.gofundme.com/s?q=covid+medical+bills+in+the+hospital&pg=34',\n",
       " 'https://www.gofundme.com/s?q=covid+medical+bills+in+the+hospital&pg=35',\n",
       " 'https://www.gofundme.com/s?q=covid+medical+bills+in+the+hospital&pg=36',\n",
       " 'https://www.gofundme.com/s?q=covid+medical+bills+in+the+hospital&pg=37',\n",
       " 'https://www.gofundme.com/s?q=covid+medical+bills+in+the+hospital&pg=38',\n",
       " 'https://www.gofundme.com/s?q=covid+medical+bills+in+the+hospital&pg=39',\n",
       " 'https://www.gofundme.com/s?q=covid+medical+bills+in+the+hospital&pg=40',\n",
       " 'https://www.gofundme.com/s?q=covid+medical+bills+in+the+hospital&pg=41',\n",
       " 'https://www.gofundme.com/s?q=covid+medical+bills+in+the+hospital&pg=42',\n",
       " 'https://www.gofundme.com/s?q=covid+medical+bills+in+the+hospital&pg=43',\n",
       " 'https://www.gofundme.com/s?q=covid+medical+bills+in+the+hospital&pg=44',\n",
       " 'https://www.gofundme.com/s?q=covid+medical+bills+in+the+hospital&pg=45',\n",
       " 'https://www.gofundme.com/s?q=covid+medical+bills+in+the+hospital&pg=46',\n",
       " 'https://www.gofundme.com/s?q=covid+medical+bills+in+the+hospital&pg=47',\n",
       " 'https://www.gofundme.com/s?q=covid+medical+bills+in+the+hospital&pg=48',\n",
       " 'https://www.gofundme.com/s?q=covid+medical+bills+in+the+hospital&pg=49',\n",
       " 'https://www.gofundme.com/s?q=covid+medical+bills+in+the+hospital&pg=50',\n",
       " 'https://www.gofundme.com/s?q=covid+medical+bills+in+the+hospital&pg=51',\n",
       " 'https://www.gofundme.com/s?q=covid+medical+bills+in+the+hospital&pg=52',\n",
       " 'https://www.gofundme.com/s?q=covid+medical+bills+in+the+hospital&pg=53',\n",
       " 'https://www.gofundme.com/s?q=covid+medical+bills+in+the+hospital&pg=54',\n",
       " 'https://www.gofundme.com/s?q=covid+medical+bills+in+the+hospital&pg=55',\n",
       " 'https://www.gofundme.com/s?q=covid+medical+bills+in+the+hospital&pg=56']"
      ]
     },
     "execution_count": 6,
     "metadata": {},
     "output_type": "execute_result"
    }
   ],
   "source": [
    "# Create a list of links to loop through\n",
    "# Searching for \"covid medical bills in the hospital\"\n",
    "links = []\n",
    "for x in range (1,57):\n",
    "    link = f\"https://www.gofundme.com/s?q=covid+medical+bills+in+the+hospital&pg={x}\"\n",
    "    links.append(link)\n",
    "links"
   ]
  },
  {
   "cell_type": "code",
   "execution_count": 8,
   "id": "a023d9e8",
   "metadata": {
    "scrolled": false
   },
   "outputs": [
    {
     "data": {
      "text/plain": [
       "['https://www.gofundme.com/s?q=covid+on+a+ventilator&pg=1',\n",
       " 'https://www.gofundme.com/s?q=covid+on+a+ventilator&pg=2',\n",
       " 'https://www.gofundme.com/s?q=covid+on+a+ventilator&pg=3',\n",
       " 'https://www.gofundme.com/s?q=covid+on+a+ventilator&pg=4',\n",
       " 'https://www.gofundme.com/s?q=covid+on+a+ventilator&pg=5',\n",
       " 'https://www.gofundme.com/s?q=covid+on+a+ventilator&pg=6',\n",
       " 'https://www.gofundme.com/s?q=covid+on+a+ventilator&pg=7',\n",
       " 'https://www.gofundme.com/s?q=covid+on+a+ventilator&pg=8',\n",
       " 'https://www.gofundme.com/s?q=covid+on+a+ventilator&pg=9',\n",
       " 'https://www.gofundme.com/s?q=covid+on+a+ventilator&pg=10',\n",
       " 'https://www.gofundme.com/s?q=covid+on+a+ventilator&pg=11',\n",
       " 'https://www.gofundme.com/s?q=covid+on+a+ventilator&pg=12',\n",
       " 'https://www.gofundme.com/s?q=covid+on+a+ventilator&pg=13',\n",
       " 'https://www.gofundme.com/s?q=covid+on+a+ventilator&pg=14',\n",
       " 'https://www.gofundme.com/s?q=covid+on+a+ventilator&pg=15',\n",
       " 'https://www.gofundme.com/s?q=covid+on+a+ventilator&pg=16',\n",
       " 'https://www.gofundme.com/s?q=covid+on+a+ventilator&pg=17',\n",
       " 'https://www.gofundme.com/s?q=covid+on+a+ventilator&pg=18',\n",
       " 'https://www.gofundme.com/s?q=covid+on+a+ventilator&pg=19',\n",
       " 'https://www.gofundme.com/s?q=covid+on+a+ventilator&pg=20',\n",
       " 'https://www.gofundme.com/s?q=covid+on+a+ventilator&pg=21',\n",
       " 'https://www.gofundme.com/s?q=covid+on+a+ventilator&pg=22',\n",
       " 'https://www.gofundme.com/s?q=covid+on+a+ventilator&pg=23',\n",
       " 'https://www.gofundme.com/s?q=covid+on+a+ventilator&pg=24',\n",
       " 'https://www.gofundme.com/s?q=covid+on+a+ventilator&pg=25',\n",
       " 'https://www.gofundme.com/s?q=covid+on+a+ventilator&pg=26',\n",
       " 'https://www.gofundme.com/s?q=covid+on+a+ventilator&pg=27',\n",
       " 'https://www.gofundme.com/s?q=covid+on+a+ventilator&pg=28',\n",
       " 'https://www.gofundme.com/s?q=covid+on+a+ventilator&pg=29',\n",
       " 'https://www.gofundme.com/s?q=covid+on+a+ventilator&pg=30',\n",
       " 'https://www.gofundme.com/s?q=covid+on+a+ventilator&pg=31',\n",
       " 'https://www.gofundme.com/s?q=covid+on+a+ventilator&pg=32',\n",
       " 'https://www.gofundme.com/s?q=covid+on+a+ventilator&pg=33',\n",
       " 'https://www.gofundme.com/s?q=covid+on+a+ventilator&pg=34',\n",
       " 'https://www.gofundme.com/s?q=covid+on+a+ventilator&pg=35',\n",
       " 'https://www.gofundme.com/s?q=covid+on+a+ventilator&pg=36',\n",
       " 'https://www.gofundme.com/s?q=covid+on+a+ventilator&pg=37',\n",
       " 'https://www.gofundme.com/s?q=covid+on+a+ventilator&pg=38',\n",
       " 'https://www.gofundme.com/s?q=covid+on+a+ventilator&pg=39',\n",
       " 'https://www.gofundme.com/s?q=covid+on+a+ventilator&pg=40',\n",
       " 'https://www.gofundme.com/s?q=covid+on+a+ventilator&pg=41',\n",
       " 'https://www.gofundme.com/s?q=covid+on+a+ventilator&pg=42',\n",
       " 'https://www.gofundme.com/s?q=covid+on+a+ventilator&pg=43',\n",
       " 'https://www.gofundme.com/s?q=covid+on+a+ventilator&pg=44',\n",
       " 'https://www.gofundme.com/s?q=covid+on+a+ventilator&pg=45',\n",
       " 'https://www.gofundme.com/s?q=covid+on+a+ventilator&pg=46',\n",
       " 'https://www.gofundme.com/s?q=covid+on+a+ventilator&pg=47',\n",
       " 'https://www.gofundme.com/s?q=covid+on+a+ventilator&pg=48',\n",
       " 'https://www.gofundme.com/s?q=covid+on+a+ventilator&pg=49',\n",
       " 'https://www.gofundme.com/s?q=covid+on+a+ventilator&pg=50',\n",
       " 'https://www.gofundme.com/s?q=covid+on+a+ventilator&pg=51',\n",
       " 'https://www.gofundme.com/s?q=covid+on+a+ventilator&pg=52',\n",
       " 'https://www.gofundme.com/s?q=covid+on+a+ventilator&pg=53',\n",
       " 'https://www.gofundme.com/s?q=covid+on+a+ventilator&pg=54',\n",
       " 'https://www.gofundme.com/s?q=covid+on+a+ventilator&pg=55',\n",
       " 'https://www.gofundme.com/s?q=covid+on+a+ventilator&pg=56']"
      ]
     },
     "execution_count": 8,
     "metadata": {},
     "output_type": "execute_result"
    }
   ],
   "source": [
    "# Create a list of links to loop through\n",
    "# Searching for \"covid on a ventilator\"\n",
    "links = []\n",
    "for x in range (1,57):\n",
    "    link = f\"https://www.gofundme.com/s?q=covid+on+a+ventilator&pg={x}\"\n",
    "    links.append(link)\n",
    "links"
   ]
  },
  {
   "cell_type": "code",
   "execution_count": 9,
   "id": "eefd002a",
   "metadata": {},
   "outputs": [
    {
     "name": "stderr",
     "output_type": "stream",
     "text": [
      "100%|███████████████████████████████████████████| 56/56 [03:50<00:00,  4.12s/it]\n"
     ]
    }
   ],
   "source": [
    "# campaign_links = []\n",
    "for link in tqdm(links):\n",
    "    driver.get(link)\n",
    "    doc = BeautifulSoup(driver.page_source)\n",
    "    \n",
    "    # Isolate the campaign cards\n",
    "    campaigns = doc.find_all(class_=\"m-search-result-card m-search-result-card-base mr mb\")\n",
    "    \n",
    "    # Get the links for each campaign\n",
    "    for campaign in campaigns:\n",
    "        one_campaign = campaign.a['href']\n",
    "        campaign_links.append(one_campaign)\n",
    "    \n",
    "    # Save to a dataframe and csv, for safe keeping\n",
    "    df = pd.DataFrame(campaign_links)\n",
    "    df.to_csv(\"go-fund-me-campaign-links-2.csv\", index=False)\n",
    "    \n",
    "    # Sleep 1-3 seconds\n",
    "    time.sleep(random.randint(1, 4))"
   ]
  },
  {
   "cell_type": "code",
   "execution_count": null,
   "id": "6643726d",
   "metadata": {},
   "outputs": [],
   "source": []
  }
 ],
 "metadata": {
  "kernelspec": {
   "display_name": "Python 3 (ipykernel)",
   "language": "python",
   "name": "python3"
  },
  "language_info": {
   "codemirror_mode": {
    "name": "ipython",
    "version": 3
   },
   "file_extension": ".py",
   "mimetype": "text/x-python",
   "name": "python",
   "nbconvert_exporter": "python",
   "pygments_lexer": "ipython3",
   "version": "3.9.7"
  }
 },
 "nbformat": 4,
 "nbformat_minor": 5
}
